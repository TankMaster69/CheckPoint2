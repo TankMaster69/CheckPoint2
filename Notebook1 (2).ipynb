{
 "cells": [
  {
   "cell_type": "code",
   "execution_count": 1,
   "id": "cf5256a8",
   "metadata": {},
   "outputs": [
    {
     "name": "stdout",
     "output_type": "stream",
     "text": [
      "Welcome to python world! Let's start coding\n"
     ]
    }
   ],
   "source": [
    "print(\"Welcome to python world! Let's start coding\")\n"
   ]
  },
  {
   "cell_type": "code",
   "execution_count": 2,
   "id": "6d6c926d",
   "metadata": {},
   "outputs": [
    {
     "name": "stdout",
     "output_type": "stream",
     "text": [
      "[2212, 2219, 2226, 2233, 2247, 2254, 2261, 2268, 2282, 2289, 2296, 2303, 2317, 2324, 2331, 2338, 2352, 2359, 2366, 2373, 2387, 2394, 2401, 2408, 2422, 2429, 2436, 2443, 2457, 2464, 2471, 2478, 2492, 2499, 2506, 2513, 2527, 2534, 2541, 2548, 2562, 2569, 2576, 2583, 2597, 2604, 2611, 2618, 2632, 2639, 2646, 2653, 2667, 2674, 2681, 2688, 2702, 2709, 2716, 2723, 2737, 2744, 2751, 2758, 2772, 2779, 2786, 2793, 2807, 2814, 2821, 2828, 2842, 2849, 2856, 2863, 2877, 2884, 2891, 2898, 2912, 2919, 2926, 2933, 2947, 2954, 2961, 2968, 2982, 2989, 2996, 3003, 3017, 3024, 3031, 3038, 3052, 3059, 3066, 3073, 3087, 3094, 3101, 3108, 3122, 3129, 3136, 3143, 3157, 3164, 3171, 3178, 3192, 3199]\n"
     ]
    }
   ],
   "source": [
    "MyList=[]\n",
    "for x in range (2200,3201):\n",
    "    if ((x%7 == 0) and (x%5 !=0)) :\n",
    "        MyList.append(x)\n",
    "print(MyList)"
   ]
  },
  {
   "cell_type": "code",
   "execution_count": 2,
   "id": "844e2945-9940-40b1-aefc-5323d3c19f37",
   "metadata": {},
   "outputs": [
    {
     "name": "stdout",
     "output_type": "stream",
     "text": [
      "n : 4\n",
      "4 ! =  24\n"
     ]
    }
   ],
   "source": [
    "n = int(input('n : '))\n",
    "F = 1\n",
    "for i in range(1, n+1):\n",
    "  F = F * i\n",
    "print (n,'! = ',F)"
   ]
  },
  {
   "cell_type": "code",
   "execution_count": 3,
   "id": "56c75069-759c-4131-bf8d-40b426042773",
   "metadata": {},
   "outputs": [
    {
     "name": "stdout",
     "output_type": "stream",
     "text": [
      "Input a number8\n",
      "{1: 1, 2: 4, 3: 9, 4: 16, 5: 25, 6: 36, 7: 49, 8: 64}\n"
     ]
    }
   ],
   "source": [
    "n = int(input(\"Input a number\")) \n",
    "dict = {i : i*i for i in range (1,n+1)} \n",
    "print(dict)\n"
   ]
  },
  {
   "cell_type": "code",
   "execution_count": 6,
   "id": "79ce5899-64af-4076-8b54-d77d8a20bc41",
   "metadata": {},
   "outputs": [
    {
     "name": "stdout",
     "output_type": "stream",
     "text": [
      "write a word : John Cena\n",
      "write a number : 6\n",
      "John Cna\n"
     ]
    }
   ],
   "source": [
    "x = input(\"write a word : \")\n",
    "y = int(input(\"write a number : \"))\n",
    "if len(x) <= y:\n",
    "     y = int(input(\"write another number : \"))\n",
    "print(x.replace(x[y],''))"
   ]
  },
  {
   "cell_type": "code",
   "execution_count": 7,
   "id": "80c61e57-746b-4bea-985d-d853bd5ad585",
   "metadata": {},
   "outputs": [
    {
     "name": "stdout",
     "output_type": "stream",
     "text": [
      "NumPy Array:[[1 2 3]\n",
      " [4 5 6]]\n",
      "List: [[1, 2, 3], [4, 5, 6]]\n"
     ]
    }
   ],
   "source": [
    "import numpy as np\n",
    "arr = np.array([[1, 2, 3], [4, 5, 6]])\n",
    "print(f'NumPy Array:{arr}')\n",
    "list1 = arr.tolist()\n",
    "print(f'List: {list1}')\n"
   ]
  },
  {
   "cell_type": "code",
   "execution_count": 8,
   "id": "16a506a7",
   "metadata": {},
   "outputs": [
    {
     "name": "stdout",
     "output_type": "stream",
     "text": [
      "[0 1 2]\n",
      "[2 1 0]\n"
     ]
    },
    {
     "data": {
      "text/plain": [
       "array([[ 1., -1.],\n",
       "       [-1.,  1.]])"
      ]
     },
     "execution_count": 8,
     "metadata": {},
     "output_type": "execute_result"
    }
   ],
   "source": [
    "import numpy as np\n",
    "a = np.array([0,1,2])\n",
    "print(a)\n",
    "b = np.array([2,1,0])\n",
    "print(b)\n",
    "np.cov(a,b)"
   ]
  },
  {
   "cell_type": "code",
   "execution_count": 9,
   "id": "42ba6a61",
   "metadata": {},
   "outputs": [
    {
     "name": "stdout",
     "output_type": "stream",
     "text": [
      "enter 3 numbers : 69,420,421\n",
      "[15, 37, 37]\n"
     ]
    }
   ],
   "source": [
    "from math import sqrt\n",
    "c = 50\n",
    "h = 30\n",
    "d = (input(\"enter 3 numbers : \"))\n",
    "x = d.split(\",\")\n",
    "l = []\n",
    "for i in x :\n",
    "    i = int(i)\n",
    "    Q = round(sqrt((2*c*i)/h))\n",
    "    l.append(Q)\n",
    "print(l)"
   ]
  },
  {
   "cell_type": "code",
   "execution_count": null,
   "id": "6c89157f",
   "metadata": {},
   "outputs": [],
   "source": []
  }
 ],
 "metadata": {
  "kernelspec": {
   "display_name": "Python 3",
   "language": "python",
   "name": "python3"
  },
  "language_info": {
   "codemirror_mode": {
    "name": "ipython",
    "version": 3
   },
   "file_extension": ".py",
   "mimetype": "text/x-python",
   "name": "python",
   "nbconvert_exporter": "python",
   "pygments_lexer": "ipython3",
   "version": "3.8.8"
  }
 },
 "nbformat": 4,
 "nbformat_minor": 5
}
